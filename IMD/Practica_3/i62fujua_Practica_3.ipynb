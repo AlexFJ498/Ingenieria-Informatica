{
 "cells": [
  {
   "cell_type": "markdown",
   "metadata": {},
   "source": [
    "# Introducción a la Minería de Datos\n",
    "# Práctica 3: Clasificación y evaluación de modelos\n",
    "## Autor: Alejandro Fuerte Jurado"
   ]
  },
  {
   "cell_type": "markdown",
   "metadata": {},
   "source": [
    "En esta práctica se realizarán distintos métodos de clasificación como árboles de decisión, k vecinos más cercanos y máquinas vectores soporte. Estos métodos se utilizarán sobre distintos conjuntos de datos con el objetivo de ejecutar diferentes modelos, evaluarlos y compararlos entre sí."
   ]
  },
  {
   "cell_type": "markdown",
   "metadata": {},
   "source": [
    "### 1. Obtenga al menos 10 conjuntos de datos en formato CSV, ARFF u otro cualquiera de Weka datasets o UCI MLR.\n",
    "Los conjuntos escogidos para esta práctica son:\n",
    "* BreastTissue.csv\n",
    "* contact-lens\n",
    "* ecoli\n",
    "* glass\n",
    "* statlog\n",
    "* iris\n",
    "* PhishingData\n",
    "* segment challenge\n",
    "* wine\n",
    "* zoo\n",
    "\n",
    "Los cuales pueden obtenerse a través de los siguientes enlaces: \n",
    "\n",
    "https://storm.cis.fordham.edu/~gweiss/data-mining/datasets.html\n",
    "\n",
    "https://archive.ics.uci.edu/ml/index.php"
   ]
  },
  {
   "cell_type": "markdown",
   "metadata": {},
   "source": [
    "### 2. Seleccione al menos 3 clasificadores dentro de los disponibles en Scikit. Se recomienda elegir tres de entre los siguientes: árboles de decisión, k vecinos más cercanos, máquinas de vectores soporte y clasificador Naïve de Bayes. No use combinaciones (ensembles) de modelos que serán objeto de una práctica posterior."
   ]
  },
  {
   "cell_type": "markdown",
   "metadata": {},
   "source": [
    "Los tres clasificadores elegidos son:\n",
    "* Árboles de decisión.\n",
    "* K vecinos más cercanos.\n",
    "* Máquinas de vectores soporte (SVM)."
   ]
  },
  {
   "cell_type": "markdown",
   "metadata": {},
   "source": [
    "### 3. Para cada uno de los problemas seleccionados realice las siguientes tareas:\n",
    "#### 3.1. Seleccione como método para obtener el error la validación cruzada de 10 particiones o el método hold out.\n",
    "#### 3.2. Ejecute para cada clasificador seleccionado el entrenamiento y anote el error.\n",
    "#### 3.3. Represente gráficamente el error obtenido con cada uno de los métodos de clasificación.\n",
    "Vamos a crear un script que ejecute los tres clasificadores para cada una de las bases de datos y que guarde los datos de error. De esta forma, podremos representarlo usando gráficos de barras."
   ]
  },
  {
   "cell_type": "code",
   "execution_count": 96,
   "metadata": {},
   "outputs": [
    {
     "name": "stdout",
     "output_type": "stream",
     "text": [
      "['car' 'car' 'car' 'car' 'car' 'car' 'car' 'car' 'car' 'car' 'car' 'car'\n",
      " 'car' 'car' 'car' 'car' 'car' 'car' 'car' 'car' 'car' 'fad' 'fad' 'fad'\n",
      " 'fad' 'fad' 'fad' 'fad' 'fad' 'fad' 'fad' 'fad' 'fad' 'fad' 'fad' 'fad'\n",
      " 'mas' 'mas' 'mas' 'mas' 'mas' 'mas' 'mas' 'mas' 'mas' 'mas' 'mas' 'mas'\n",
      " 'mas' 'mas' 'mas' 'mas' 'mas' 'mas' 'gla' 'gla' 'gla' 'gla' 'gla' 'gla'\n",
      " 'gla' 'gla' 'gla' 'gla' 'gla' 'gla' 'gla' 'gla' 'gla' 'gla' 'con' 'con'\n",
      " 'con' 'con' 'con' 'con' 'con' 'con' 'con' 'con' 'con' 'con' 'con' 'con'\n",
      " 'adi' 'adi' 'adi' 'adi' 'adi' 'adi' 'adi' 'adi' 'adi' 'adi' 'adi' 'adi'\n",
      " 'adi' 'adi' 'adi' 'adi' 'adi' 'adi' 'adi' 'adi' 'adi' 'adi']\n",
      "[2 0 2 1 2 0 2 1 2 0 2 1 2 0 2 2 2 2 2 1 2 0 2 2]\n",
      "['cp' 'cp' 'cp' 'cp' 'cp' 'cp' 'cp' 'cp' 'cp' 'cp' 'cp' 'cp' 'cp' 'cp'\n",
      " 'cp' 'cp' 'cp' 'cp' 'cp' 'cp' 'cp' 'cp' 'cp' 'cp' 'cp' 'cp' 'cp' 'cp'\n",
      " 'cp' 'cp' 'cp' 'cp' 'cp' 'cp' 'cp' 'cp' 'cp' 'cp' 'cp' 'cp' 'cp' 'cp'\n",
      " 'cp' 'cp' 'cp' 'cp' 'cp' 'cp' 'cp' 'cp' 'cp' 'cp' 'cp' 'cp' 'cp' 'cp'\n",
      " 'cp' 'cp' 'cp' 'cp' 'cp' 'cp' 'cp' 'cp' 'cp' 'cp' 'cp' 'cp' 'cp' 'cp'\n",
      " 'cp' 'cp' 'cp' 'cp' 'cp' 'cp' 'cp' 'cp' 'cp' 'cp' 'cp' 'cp' 'cp' 'cp'\n",
      " 'cp' 'cp' 'cp' 'cp' 'cp' 'cp' 'cp' 'cp' 'cp' 'cp' 'cp' 'cp' 'cp' 'cp'\n",
      " 'cp' 'cp' 'cp' 'cp' 'cp' 'cp' 'cp' 'cp' 'cp' 'cp' 'cp' 'cp' 'cp' 'cp'\n",
      " 'cp' 'cp' 'cp' 'cp' 'cp' 'cp' 'cp' 'cp' 'cp' 'cp' 'cp' 'cp' 'cp' 'cp'\n",
      " 'cp' 'cp' 'cp' 'cp' 'cp' 'cp' 'cp' 'cp' 'cp' 'cp' 'cp' 'cp' 'cp' 'cp'\n",
      " 'cp' 'cp' 'cp' 'im' 'im' 'im' 'im' 'im' 'im' 'im' 'im' 'im' 'im' 'im'\n",
      " 'im' 'im' 'im' 'im' 'im' 'im' 'im' 'im' 'im' 'im' 'im' 'im' 'im' 'im'\n",
      " 'im' 'im' 'im' 'im' 'im' 'im' 'im' 'im' 'im' 'im' 'im' 'im' 'im' 'im'\n",
      " 'im' 'im' 'im' 'im' 'im' 'im' 'im' 'im' 'im' 'im' 'im' 'im' 'im' 'im'\n",
      " 'im' 'im' 'im' 'im' 'im' 'im' 'im' 'im' 'im' 'im' 'im' 'im' 'im' 'im'\n",
      " 'im' 'im' 'im' 'im' 'im' 'im' 'im' 'im' 'im' 'im' 'imS' 'imS' 'imL' 'imL'\n",
      " 'imU' 'imU' 'imU' 'imU' 'imU' 'imU' 'imU' 'imU' 'imU' 'imU' 'imU' 'imU'\n",
      " 'imU' 'imU' 'imU' 'imU' 'imU' 'imU' 'imU' 'imU' 'imU' 'imU' 'imU' 'imU'\n",
      " 'imU' 'imU' 'imU' 'imU' 'imU' 'imU' 'imU' 'imU' 'imU' 'imU' 'imU' 'om'\n",
      " 'om' 'om' 'om' 'om' 'om' 'om' 'om' 'om' 'om' 'om' 'om' 'om' 'om' 'om'\n",
      " 'om' 'om' 'om' 'om' 'om' 'omL' 'omL' 'omL' 'omL' 'omL' 'pp' 'pp' 'pp'\n",
      " 'pp' 'pp' 'pp' 'pp' 'pp' 'pp' 'pp' 'pp' 'pp' 'pp' 'pp' 'pp' 'pp' 'pp'\n",
      " 'pp' 'pp' 'pp' 'pp' 'pp' 'pp' 'pp' 'pp' 'pp' 'pp' 'pp' 'pp' 'pp' 'pp'\n",
      " 'pp' 'pp' 'pp' 'pp' 'pp' 'pp' 'pp' 'pp' 'pp' 'pp' 'pp' 'pp' 'pp' 'pp'\n",
      " 'pp' 'pp' 'pp' 'pp' 'pp' 'pp' 'pp']\n"
     ]
    },
    {
     "name": "stderr",
     "output_type": "stream",
     "text": [
      "C:\\ProgramData\\Anaconda3\\lib\\site-packages\\sklearn\\model_selection\\_split.py:670: UserWarning: The least populated class in y has only 4 members, which is less than n_splits=10.\n",
      "  warnings.warn((\"The least populated class in y has only %d\"\n",
      "C:\\ProgramData\\Anaconda3\\lib\\site-packages\\sklearn\\model_selection\\_split.py:670: UserWarning: The least populated class in y has only 4 members, which is less than n_splits=10.\n",
      "  warnings.warn((\"The least populated class in y has only %d\"\n",
      "C:\\ProgramData\\Anaconda3\\lib\\site-packages\\sklearn\\model_selection\\_split.py:670: UserWarning: The least populated class in y has only 4 members, which is less than n_splits=10.\n",
      "  warnings.warn((\"The least populated class in y has only %d\"\n",
      "C:\\ProgramData\\Anaconda3\\lib\\site-packages\\sklearn\\model_selection\\_split.py:670: UserWarning: The least populated class in y has only 2 members, which is less than n_splits=10.\n",
      "  warnings.warn((\"The least populated class in y has only %d\"\n",
      "C:\\ProgramData\\Anaconda3\\lib\\site-packages\\sklearn\\model_selection\\_split.py:670: UserWarning: The least populated class in y has only 2 members, which is less than n_splits=10.\n",
      "  warnings.warn((\"The least populated class in y has only %d\"\n",
      "C:\\ProgramData\\Anaconda3\\lib\\site-packages\\sklearn\\model_selection\\_split.py:670: UserWarning: The least populated class in y has only 2 members, which is less than n_splits=10.\n",
      "  warnings.warn((\"The least populated class in y has only %d\"\n",
      "C:\\ProgramData\\Anaconda3\\lib\\site-packages\\sklearn\\model_selection\\_split.py:670: UserWarning: The least populated class in y has only 9 members, which is less than n_splits=10.\n",
      "  warnings.warn((\"The least populated class in y has only %d\"\n",
      "C:\\ProgramData\\Anaconda3\\lib\\site-packages\\sklearn\\model_selection\\_split.py:670: UserWarning: The least populated class in y has only 9 members, which is less than n_splits=10.\n",
      "  warnings.warn((\"The least populated class in y has only %d\"\n",
      "C:\\ProgramData\\Anaconda3\\lib\\site-packages\\sklearn\\model_selection\\_split.py:670: UserWarning: The least populated class in y has only 9 members, which is less than n_splits=10.\n",
      "  warnings.warn((\"The least populated class in y has only %d\"\n"
     ]
    },
    {
     "name": "stdout",
     "output_type": "stream",
     "text": [
      "['build wind float' 'vehic wind float' 'build wind float' 'tableware'\n",
      " 'build wind non-float' 'build wind non-float' 'vehic wind float'\n",
      " 'build wind float' 'headlamps' 'build wind non-float'\n",
      " 'build wind non-float' 'build wind non-float' 'build wind float'\n",
      " 'vehic wind float' 'vehic wind float' 'build wind non-float' 'headlamps'\n",
      " 'build wind non-float' 'containers' 'build wind non-float'\n",
      " 'build wind float' 'build wind non-float' 'build wind non-float'\n",
      " 'build wind float' 'containers' 'build wind non-float'\n",
      " 'build wind non-float' 'headlamps' 'build wind non-float'\n",
      " 'vehic wind float' 'build wind non-float' 'vehic wind float' 'tableware'\n",
      " 'build wind non-float' 'build wind float' 'build wind float'\n",
      " 'build wind float' 'build wind non-float' 'build wind non-float'\n",
      " 'build wind non-float' 'build wind float' 'build wind non-float'\n",
      " 'build wind non-float' 'build wind non-float' 'vehic wind float'\n",
      " 'build wind float' 'containers' 'build wind float' 'build wind float'\n",
      " 'build wind non-float' 'build wind float' 'build wind non-float'\n",
      " 'build wind float' 'build wind non-float' 'headlamps' 'build wind float'\n",
      " 'headlamps' 'build wind float' 'vehic wind float' 'build wind non-float'\n",
      " 'build wind non-float' 'build wind float' 'build wind float'\n",
      " 'build wind float' 'build wind float' 'headlamps' 'build wind float'\n",
      " 'vehic wind float' 'build wind non-float' 'build wind float' 'tableware'\n",
      " 'build wind non-float' 'tableware' 'build wind non-float'\n",
      " 'build wind float' 'build wind non-float' 'build wind float'\n",
      " 'build wind float' 'vehic wind float' 'build wind float'\n",
      " 'build wind float' 'build wind float' 'vehic wind float'\n",
      " 'build wind float' 'containers' 'build wind non-float'\n",
      " 'build wind non-float' 'build wind float' 'build wind float'\n",
      " 'build wind non-float' 'headlamps' 'build wind float' 'build wind float'\n",
      " 'tableware' 'headlamps' 'build wind float' 'headlamps'\n",
      " 'build wind non-float' 'build wind non-float' 'build wind non-float'\n",
      " 'build wind float' 'build wind non-float' 'headlamps' 'headlamps'\n",
      " 'headlamps' 'containers' 'build wind non-float' 'headlamps'\n",
      " 'build wind float' 'containers' 'build wind non-float' 'headlamps'\n",
      " 'build wind float' 'headlamps' 'vehic wind float' 'headlamps'\n",
      " 'build wind non-float' 'headlamps' 'build wind non-float'\n",
      " 'build wind float' 'build wind non-float' 'build wind float'\n",
      " 'build wind non-float' 'build wind non-float' 'containers'\n",
      " 'build wind float' 'headlamps' 'headlamps' 'build wind float'\n",
      " 'build wind float' 'build wind non-float' 'build wind non-float'\n",
      " 'headlamps' 'build wind float' 'containers' 'build wind float'\n",
      " 'build wind float' 'build wind non-float' 'build wind float'\n",
      " 'build wind non-float' 'build wind float' 'build wind float'\n",
      " 'build wind float' 'containers' 'build wind non-float'\n",
      " 'build wind non-float' 'build wind non-float' 'build wind non-float'\n",
      " 'build wind non-float' 'build wind non-float' 'headlamps'\n",
      " 'build wind float' 'build wind non-float' 'build wind non-float'\n",
      " 'vehic wind float' 'build wind float' 'headlamps' 'containers'\n",
      " 'build wind float' 'build wind non-float' 'build wind non-float'\n",
      " 'build wind float' 'headlamps' 'containers' 'build wind non-float'\n",
      " 'build wind float' 'build wind float' 'build wind non-float'\n",
      " 'build wind non-float' 'headlamps' 'build wind non-float'\n",
      " 'build wind non-float' 'build wind float' 'headlamps' 'build wind float'\n",
      " 'headlamps' 'build wind float' 'build wind float' 'containers'\n",
      " 'tableware' 'build wind non-float' 'build wind non-float'\n",
      " 'vehic wind float' 'build wind non-float' 'build wind float' 'headlamps'\n",
      " 'build wind float' 'build wind float' 'vehic wind float' 'containers'\n",
      " 'build wind float' 'build wind float' 'tableware' 'headlamps' 'tableware'\n",
      " 'build wind non-float' 'build wind non-float' 'build wind non-float'\n",
      " 'build wind non-float' 'build wind non-float' 'build wind non-float'\n",
      " 'build wind float' 'vehic wind float' 'build wind float'\n",
      " 'build wind non-float' 'build wind float' 'headlamps' 'build wind float'\n",
      " 'build wind float' 'vehic wind float' 'build wind non-float'\n",
      " 'build wind non-float' 'build wind non-float' 'tableware']\n",
      "[1 1 1 ... 7 7 7]\n",
      "['Iris-setosa' 'Iris-setosa' 'Iris-setosa' 'Iris-setosa' 'Iris-setosa'\n",
      " 'Iris-setosa' 'Iris-setosa' 'Iris-setosa' 'Iris-setosa' 'Iris-setosa'\n",
      " 'Iris-setosa' 'Iris-setosa' 'Iris-setosa' 'Iris-setosa' 'Iris-setosa'\n",
      " 'Iris-setosa' 'Iris-setosa' 'Iris-setosa' 'Iris-setosa' 'Iris-setosa'\n",
      " 'Iris-setosa' 'Iris-setosa' 'Iris-setosa' 'Iris-setosa' 'Iris-setosa'\n",
      " 'Iris-setosa' 'Iris-setosa' 'Iris-setosa' 'Iris-setosa' 'Iris-setosa'\n",
      " 'Iris-setosa' 'Iris-setosa' 'Iris-setosa' 'Iris-setosa' 'Iris-setosa'\n",
      " 'Iris-setosa' 'Iris-setosa' 'Iris-setosa' 'Iris-setosa' 'Iris-setosa'\n",
      " 'Iris-setosa' 'Iris-setosa' 'Iris-setosa' 'Iris-setosa' 'Iris-setosa'\n",
      " 'Iris-setosa' 'Iris-setosa' 'Iris-setosa' 'Iris-setosa' 'Iris-setosa'\n",
      " 'Iris-versicolor' 'Iris-versicolor' 'Iris-versicolor' 'Iris-versicolor'\n",
      " 'Iris-versicolor' 'Iris-versicolor' 'Iris-versicolor' 'Iris-versicolor'\n",
      " 'Iris-versicolor' 'Iris-versicolor' 'Iris-versicolor' 'Iris-versicolor'\n",
      " 'Iris-versicolor' 'Iris-versicolor' 'Iris-versicolor' 'Iris-versicolor'\n",
      " 'Iris-versicolor' 'Iris-versicolor' 'Iris-versicolor' 'Iris-versicolor'\n",
      " 'Iris-versicolor' 'Iris-versicolor' 'Iris-versicolor' 'Iris-versicolor'\n",
      " 'Iris-versicolor' 'Iris-versicolor' 'Iris-versicolor' 'Iris-versicolor'\n",
      " 'Iris-versicolor' 'Iris-versicolor' 'Iris-versicolor' 'Iris-versicolor'\n",
      " 'Iris-versicolor' 'Iris-versicolor' 'Iris-versicolor' 'Iris-versicolor'\n",
      " 'Iris-versicolor' 'Iris-versicolor' 'Iris-versicolor' 'Iris-versicolor'\n",
      " 'Iris-versicolor' 'Iris-versicolor' 'Iris-versicolor' 'Iris-versicolor'\n",
      " 'Iris-versicolor' 'Iris-versicolor' 'Iris-versicolor' 'Iris-versicolor'\n",
      " 'Iris-versicolor' 'Iris-versicolor' 'Iris-virginica' 'Iris-virginica'\n",
      " 'Iris-virginica' 'Iris-virginica' 'Iris-virginica' 'Iris-virginica'\n",
      " 'Iris-virginica' 'Iris-virginica' 'Iris-virginica' 'Iris-virginica'\n",
      " 'Iris-virginica' 'Iris-virginica' 'Iris-virginica' 'Iris-virginica'\n",
      " 'Iris-virginica' 'Iris-virginica' 'Iris-virginica' 'Iris-virginica'\n",
      " 'Iris-virginica' 'Iris-virginica' 'Iris-virginica' 'Iris-virginica'\n",
      " 'Iris-virginica' 'Iris-virginica' 'Iris-virginica' 'Iris-virginica'\n",
      " 'Iris-virginica' 'Iris-virginica' 'Iris-virginica' 'Iris-virginica'\n",
      " 'Iris-virginica' 'Iris-virginica' 'Iris-virginica' 'Iris-virginica'\n",
      " 'Iris-virginica' 'Iris-virginica' 'Iris-virginica' 'Iris-virginica'\n",
      " 'Iris-virginica' 'Iris-virginica' 'Iris-virginica' 'Iris-virginica'\n",
      " 'Iris-virginica' 'Iris-virginica' 'Iris-virginica' 'Iris-virginica'\n",
      " 'Iris-virginica' 'Iris-virginica' 'Iris-virginica' 'Iris-virginica']\n",
      "[ 0  1  1 ...  1  1 -1]\n",
      "['path' 'grass' 'foliage' ... 'grass' 'window' 'window']\n",
      "[1 1 4 1 1 1 1 4 4 1 1 2 4 7 7 7 2 1 4 1 2 2 1 2 6 5 5 1 1 1 6 1 1 2 4 1 1\n",
      " 2 4 6 6 2 6 2 1 1 7 1 1 1 1 6 5 7 1 1 2 2 2 2 4 4 3 1 1 1 1 1 1 1 1 2 7 4\n",
      " 1 1 3 7 2 2 3 7 4 2 1 7 4 2 6 5 3 3 4 1 1 2 1 6 1 7 2]\n"
     ]
    },
    {
     "name": "stderr",
     "output_type": "stream",
     "text": [
      "C:\\ProgramData\\Anaconda3\\lib\\site-packages\\sklearn\\model_selection\\_split.py:670: UserWarning: The least populated class in y has only 4 members, which is less than n_splits=10.\n",
      "  warnings.warn((\"The least populated class in y has only %d\"\n",
      "C:\\ProgramData\\Anaconda3\\lib\\site-packages\\sklearn\\model_selection\\_split.py:670: UserWarning: The least populated class in y has only 4 members, which is less than n_splits=10.\n",
      "  warnings.warn((\"The least populated class in y has only %d\"\n",
      "C:\\ProgramData\\Anaconda3\\lib\\site-packages\\sklearn\\model_selection\\_split.py:670: UserWarning: The least populated class in y has only 4 members, which is less than n_splits=10.\n",
      "  warnings.warn((\"The least populated class in y has only %d\"\n"
     ]
    }
   ],
   "source": [
    "from scipy.io import arff\n",
    "import pandas as pd\n",
    "import numpy as np\n",
    "from sklearn.tree import DecisionTreeClassifier\n",
    "from sklearn.model_selection import cross_val_score\n",
    "from sklearn import metrics\n",
    "from sklearn.neighbors import KNeighborsClassifier\n",
    "from sklearn.svm import SVC\n",
    "from sklearn.preprocessing import MultiLabelBinarizer \n",
    "import matplotlib.pyplot as plt\n",
    "\n",
    "datasets = ['BreastTissue.csv', 'contact-lens.csv', 'ecoli.csv', 'glass.csv', 'statlog.csv', \n",
    "            'iris.csv', 'PhishingData.csv', 'segment-challenge.csv', 'wine.csv', 'zoo.csv']\n",
    "\n",
    "sol_arbol = list()\n",
    "sol_vecinos = list()\n",
    "sol_svm = list()\n",
    "\n",
    "arbol = DecisionTreeClassifier()\n",
    "vecinos = KNeighborsClassifier(10)\n",
    "svm = SVC(C=1, kernel='linear', random_state=1)\n",
    "\n",
    "for i in datasets:\n",
    "    df = pd.read_csv(i, header=None)\n",
    "                            \n",
    "    if i == 'wine.csv':\n",
    "        X = df.iloc[:,1:].values\n",
    "        Y = df.iloc[:,0].values\n",
    "    else:\n",
    "        X = df.iloc[:,:-1].values\n",
    "        Y = df.iloc[:,-1].values\n",
    "        \n",
    "        print(Y)\n",
    "        \n",
    "    sol = cross_val_score(arbol, X, Y, cv=10)\n",
    "    sol_arbol.append(sol.mean())\n",
    "    \n",
    "    sol = cross_val_score(vecinos, X, Y, cv=10)\n",
    "    sol_vecinos.append(sol.mean())\n",
    "    \n",
    "    sol = cross_val_score(svm, X, Y, cv=10)\n",
    "    sol_svm.append(sol.mean())"
   ]
  },
  {
   "cell_type": "markdown",
   "metadata": {},
   "source": [
    "Vamos a crear la representación gráfica de los resultados del entrenamiento de todas las bases de datos utilizando el clasificador de árboles de decision."
   ]
  },
  {
   "cell_type": "code",
   "execution_count": 97,
   "metadata": {},
   "outputs": [
    {
     "name": "stdout",
     "output_type": "stream",
     "text": [
      "[0.6863636363636363, 0.7333333333333333, 0.9193404634581105, 0.6785714285714286, 0.8089942651455069, 0.96, 0.8287418300653595, 0.9613333333333334, 0.8816993464052288, 0.901818181818182]\n",
      "Media: 0.8360195818494119\n"
     ]
    },
    {
     "data": {
      "image/png": "[encoded data removed]",
      "text/plain": [
       "<Figure size 432x288 with 1 Axes>"
      ]
     },
     "metadata": {
      "needs_background": "light"
     },
     "output_type": "display_data"
    }
   ],
   "source": [
    "print(sol_arbol)\n",
    "print(f\"Media: {sum(sol_arbol) / len(sol_arbol)}\")\n",
    "ax = plt.figure().add_axes([0,0,3,3])\n",
    "ax.bar(datasets, sol_arbol)\n",
    "plt.show()"
   ]
  },
  {
   "cell_type": "markdown",
   "metadata": {},
   "source": [
    "Como podemos ver, el clasificador produce resultados  realmente buenos en el dataset de iris y el dataset segment-challenge.\n",
    "\n",
    "Sin embargo, en los datasets BreastTissue, contact-lens y glass los resultados no son óptimos. Para estos casos lo ideal sería modificar los distintos parámetros del clasificador, con el objetivo de buscar el mejor modelo para cada uno de los datasets.\n",
    "\n",
    "En cualquier caso, se puede ver que de forma general el clasificador produce buenos resultados utilizando los parámetros predeterminados de árboles de decisión. Siendo la media de 0.83.\n",
    "\n",
    "Vamos a observar ahora los resultados del clasificador k vecinos más cercanos."
   ]
  },
  {
   "cell_type": "code",
   "execution_count": 98,
   "metadata": {},
   "outputs": [
    {
     "name": "stdout",
     "output_type": "stream",
     "text": [
      "[0.45636363636363636, 0.6166666666666666, 0.9344919786096255, 0.30476190476190473, 0.8624504301140871, 0.9666666666666668, 0.35236383442265795, 0.6346666666666667, 0.6973856209150326, 0.3254545454545455]\n",
      "Media: 0.6151271950641489\n"
     ]
    },
    {
     "data": {
      "image/png": "[encoded data removed]",
      "text/plain": [
       "<Figure size 432x288 with 1 Axes>"
      ]
     },
     "metadata": {
      "needs_background": "light"
     },
     "output_type": "display_data"
    }
   ],
   "source": [
    "print(sol_vecinos)\n",
    "print(f\"Media: {sum(sol_vecinos) / len(sol_vecinos)}\")\n",
    "ax = plt.figure().add_axes([0,0,3,3])\n",
    "ax.bar(datasets, sol_vecinos)\n",
    "plt.show()"
   ]
  },
  {
   "cell_type": "markdown",
   "metadata": {},
   "source": [
    "Con solo un vistazo podemos darnos cuenta de que los resultados son mucho peores que con el anterior clasificador. Esta vez, la media de los resultados es de 0.61.\n",
    "\n",
    "Si observamos las barras podemos ver que hay una gran disparidad en los resultados de las distintas bases de datos. Por un lado, los datasets de iris y ecoli obtienen muy buenos resultados. Sin embargo, los datasets de glass, PhishingData y zoo obtienen unos resultados desastrosos, no llegando siquiera al 0.5. El resto de bases de datos se encuentran en una posición intermedia, pero siguen siendo unos resultados malos.\n",
    "\n",
    "Es importante tener en cuenta que el clasificador de k vecinos más cercanos es muy costoso computacionalmente, siendo recomendable usarlo en datasets pequeños. Teniendo en cuenta los resultados, no parece ser un clasificador a tener en cuenta, al menos para estos datos. \n",
    "\n",
    "Por supuesto, los malos resultados pueden deberse al número de vecinos elegido, que en nuestro caso ha sido 10 sin ninguna razón en especial. Para aquellos datasets con malos resultados, habría que modificar este parámetro para obtener un mejor modelo.\n",
    "\n",
    "Por último, vamos a ver los resultados del clasificador de máquinas de vectores soporte."
   ]
  },
  {
   "cell_type": "code",
   "execution_count": 99,
   "metadata": {},
   "outputs": [
    {
     "name": "stdout",
     "output_type": "stream",
     "text": [
      "[0.7263636363636363, 0.6666666666666666, 0.9340463458110518, 0.6309523809523808, 0.8441736318711488, 0.9733333333333334, 0.8315522875816994, 0.9633333333333333, 0.9555555555555555, 0.96]\n",
      "Media: 0.8485977171468806\n"
     ]
    },
    {
     "data": {
      "image/png": "[encoded data removed]",
      "text/plain": [
       "<Figure size 432x288 with 1 Axes>"
      ]
     },
     "metadata": {
      "needs_background": "light"
     },
     "output_type": "display_data"
    }
   ],
   "source": [
    "print(sol_svm)\n",
    "print(f\"Media: {sum(sol_svm) / len(sol_svm)}\")\n",
    "ax = plt.figure().add_axes([0,0,3,3])\n",
    "ax.bar(datasets, sol_svm)\n",
    "plt.show()"
   ]
  },
  {
   "cell_type": "markdown",
   "metadata": {},
   "source": [
    "En el caso del svm, podemos ver que en la mitad de los datasets consigue obtener resultados realmente buenos. La media de los resultados es de 0.85, siendo esta ligeramente superior al clasificador de árboles de decisión. Esto implica que de los tres clasificadores, este es el que ofrece mejores resultados.\n",
    "\n",
    "Realmente, la media sería mucho más alta si no fuera por los malos resultados que ofrece en los datasets de BreastTissue, contact-lens y glass. A pesar de ello, está claro que el clasificador svm es uno de los mejores clasificadores.\n",
    "\n",
    "En nuestro caso, hemos usado un kernel lineal, que es el más simple. Sin embargo, podría utilizarse también un kernel rbf, el cuál contiene una gran potencia y podría mejorar resultados a algunos de los datasets, aunque, por supuesto, habría que comprobarlo. El parámetro C también sería recomendable modificarlo con el objetivo de encontrar el mejor modelo posible para cada uno de los datos."
   ]
  },
  {
   "cell_type": "markdown",
   "metadata": {},
   "source": [
    "### 4. Use el test de Wilcoxon de comparación de dos algoritmos sobre N problemas y aplíquelo a dos de los algoritmos anteriores. Obtenga el rango de Friedman para cada clasificador y configuración y represente gráficamente los resultados. Aplique el test de Iman-Davenport sobre los tres clasificadores.\n",
    "\n",
    "Vamos a aplicar el test de Wilcoxon sobre los clasificadores de árboles de decisión y k vecinos cercanos."
   ]
  },
  {
   "cell_type": "code",
   "execution_count": 108,
   "metadata": {},
   "outputs": [
    {
     "name": "stdout",
     "output_type": "stream",
     "text": [
      "Valor de T: 6.0\n",
      "Valor de p: 0.02734375\n"
     ]
    }
   ],
   "source": [
    "from scipy.stats import wilcoxon\n",
    "\n",
    "T1, p1 = wilcoxon(sol_arbol, sol_vecinos)\n",
    "\n",
    "print(f\"Valor de T: {T1}\")\n",
    "print(f\"Valor de p: {p1}\")"
   ]
  },
  {
   "cell_type": "markdown",
   "metadata": {},
   "source": [
    "Vemos que el valor de p está por debajo de un nivel de confianza igual a 0.05. Por tanto, concluimos que existe una diferencia estadísticamente significativa entre los dos clasificadores.\n",
    "\n",
    "Ahora vamos a obtener el rango de Friedman para los tres clasificadores."
   ]
  },
  {
   "cell_type": "code",
   "execution_count": 109,
   "metadata": {},
   "outputs": [
    {
     "name": "stdout",
     "output_type": "stream",
     "text": [
      "Valor de T: 6.200000000000003\n",
      "Valor de p: 0.04504920239355775\n"
     ]
    }
   ],
   "source": [
    "from scipy.stats import friedmanchisquare\n",
    "\n",
    "T2, p2 = friedmanchisquare(sol_arbol, sol_vecinos, sol_svm)\n",
    "\n",
    "print(f\"Valor de T: {T2}\")\n",
    "print(f\"Valor de p: {p2}\")"
   ]
  },
  {
   "cell_type": "markdown",
   "metadata": {},
   "source": [
    "Vemos que el valor de p también está por debajo de 0.05. Por tanto, este test concluye que existen diferencias significativas entre los tres clasificadores.\n",
    "\n",
    "A continuación se muestra la representación de ambos test."
   ]
  },
  {
   "cell_type": "code",
   "execution_count": 113,
   "metadata": {},
   "outputs": [
    {
     "data": {
      "image/png": "[encoded data removed]",
      "text/plain": [
       "<Figure size 432x288 with 1 Axes>"
      ]
     },
     "metadata": {
      "needs_background": "light"
     },
     "output_type": "display_data"
    }
   ],
   "source": [
    "tests1 = ['T wilcoxon', 'T friedman']\n",
    "tests2 = ['p wilcoxon', 'p friedman']\n",
    "tests_resultados1 = [T1, T2]\n",
    "tests_resultados2 = [p1, p2]\n",
    "\n",
    "ax = plt.figure().add_axes([0,0,1,1])\n",
    "ax.bar(tests1, tests_resultados1)\n",
    "plt.show()"
   ]
  },
  {
   "cell_type": "code",
   "execution_count": 114,
   "metadata": {},
   "outputs": [
    {
     "data": {
      "image/png": "[encoded data removed]",
      "text/plain": [
       "<Figure size 432x288 with 1 Axes>"
      ]
     },
     "metadata": {
      "needs_background": "light"
     },
     "output_type": "display_data"
    }
   ],
   "source": [
    "ax = plt.figure().add_axes([0,0,1,1])\n",
    "ax.bar(tests2, tests_resultados2)\n",
    "plt.show()"
   ]
  },
  {
   "cell_type": "markdown",
   "metadata": {},
   "source": [
    "Por último, vamos a realizar el test de Iman y Davenport utilizando el resultado del test de Friedman."
   ]
  },
  {
   "cell_type": "code",
   "execution_count": 116,
   "metadata": {},
   "outputs": [
    {
     "name": "stdout",
     "output_type": "stream",
     "text": [
      "4.043478260869568\n",
      "Existen diferencias.\n"
     ]
    }
   ],
   "source": [
    "from scipy.stats import f\n",
    "\n",
    "davenport = ((10-1) * T2) / (10 * (3-1) - T2)\n",
    "\n",
    "print(davenport)\n",
    "\n",
    "if davenport > f.ppf(q=1-0.05, dfn=3-1, dfd=(3-1)*(10-1)):\n",
    "    print(\"Existen diferencias.\")\n",
    "else:\n",
    "    print(\"No existen diferencias significativas.\")"
   ]
  },
  {
   "cell_type": "markdown",
   "metadata": {},
   "source": [
    "Este test confirma los resultados anteriores, y es que los tres clasificadores producen resultados significativamente diferentes para los 10 datasets que hemos escogido."
   ]
  },
  {
   "cell_type": "markdown",
   "metadata": {},
   "source": [
    "### 6. Para uno de los clasificadores elegidos utilice una validación de los hiperparámetros con grid search y compare su rendimiento con el método con hiperparámetros fijados a priori.\n",
    "Vamos a escoger el clasificador de k vecinos más cercanos, con el objetivo de encontrar un modelo que mejore los resultados anteriores."
   ]
  },
  {
   "cell_type": "code",
   "execution_count": 138,
   "metadata": {},
   "outputs": [
    {
     "name": "stderr",
     "output_type": "stream",
     "text": [
      "C:\\ProgramData\\Anaconda3\\lib\\site-packages\\sklearn\\model_selection\\_split.py:670: UserWarning: The least populated class in y has only 3 members, which is less than n_splits=5.\n",
      "  warnings.warn((\"The least populated class in y has only %d\"\n",
      "C:\\ProgramData\\Anaconda3\\lib\\site-packages\\sklearn\\model_selection\\_split.py:670: UserWarning: The least populated class in y has only 2 members, which is less than n_splits=5.\n",
      "  warnings.warn((\"The least populated class in y has only %d\"\n",
      "C:\\ProgramData\\Anaconda3\\lib\\site-packages\\sklearn\\model_selection\\_split.py:670: UserWarning: The least populated class in y has only 3 members, which is less than n_splits=5.\n",
      "  warnings.warn((\"The least populated class in y has only %d\"\n"
     ]
    }
   ],
   "source": [
    "from sklearn.model_selection import GridSearchCV, train_test_split\n",
    "from sklearn.metrics import accuracy_score\n",
    "\n",
    "vecinos_grid = KNeighborsClassifier()\n",
    "\n",
    "grid_values = {\n",
    "    'n_neighbors': [1, 2, 3, 4, 5, 6, 7, 8, 9, 10, 15],\n",
    "    'p': [1, 2]\n",
    "}\n",
    "\n",
    "sol_vecinos_grid = list()\n",
    "\n",
    "for i in datasets:\n",
    "    df = pd.read_csv(i, header=None)\n",
    "                            \n",
    "    if i == 'wine.csv':\n",
    "        X = df.iloc[:,1:].values\n",
    "        Y = df.iloc[:,0].values\n",
    "    else:\n",
    "        X = df.iloc[:,:-1].values\n",
    "        Y = df.iloc[:,-1].values\n",
    "        \n",
    "    X_train, X_test, y_train, y_test = train_test_split(X, Y, test_size=0.15, random_state=1)\n",
    "    \n",
    "    sol_grid = GridSearchCV(vecinos_grid, param_grid=grid_values, scoring='accuracy')\n",
    "    sol_grid.fit(X_train, y_train)\n",
    "    accuracy = accuracy_score(y_test, sol_grid.predict(X_test))\n",
    "    sol_vecinos_grid.append(accuracy)"
   ]
  },
  {
   "cell_type": "code",
   "execution_count": 139,
   "metadata": {},
   "outputs": [
    {
     "name": "stdout",
     "output_type": "stream",
     "text": [
      "Media: 0.7136456282749386\n"
     ]
    }
   ],
   "source": [
    "print(f\"Media: {sum(sol_vecinos_grid) / len(sol_vecinos_grid)}\")"
   ]
  },
  {
   "cell_type": "markdown",
   "metadata": {},
   "source": [
    "Como vemos, la media es de 0.71. Si recordamos, la media obtenida originalmente era de 0.61, por lo que los resultados han mejorado considerablemente. Además, no sólo han mejorado, sino que además han igualado al clasificador svm, que tenía la mejor media de los tres clasificadores.\n",
    "\n",
    "Sería de esperar que si se realizara este mismo procedimiento para los otros dos clasificadores, sus medias mejoraran de la misma forma. Esto demuestra que este método de validación de hiperparámetros es bastante eficaz."
   ]
  }
 ],
 "metadata": {
  "kernelspec": {
   "display_name": "Python 3",
   "language": "python",
   "name": "python3"
  },
  "language_info": {
   "codemirror_mode": {
    "name": "ipython",
    "version": 3
   },
   "file_extension": ".py",
   "mimetype": "text/x-python",
   "name": "python",
   "nbconvert_exporter": "python",
   "pygments_lexer": "ipython3",
   "version": "3.8.5"
  }
 },
 "nbformat": 4,
 "nbformat_minor": 4
}
