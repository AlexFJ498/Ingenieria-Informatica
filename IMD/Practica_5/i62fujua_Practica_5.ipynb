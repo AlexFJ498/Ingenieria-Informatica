{
 "cells": [
  {
   "cell_type": "markdown",
   "metadata": {},
   "source": [
    "# Introducción a la Minería de Datos\n",
    "# Práctica 5: Clasificación usando método multiclase\n",
    "## Autor: Alejandro Fuerte Jurado"
   ]
  },
  {
   "cell_type": "markdown",
   "metadata": {},
   "source": [
    "En esta práctica se realizarán distintos ejercicios con el objetivo de introducir métodos de clasificación usando métodos multiclase."
   ]
  },
  {
   "cell_type": "markdown",
   "metadata": {},
   "source": [
    "### 1. Seleccione un algoritmo clasificación de los disponibles en scikit que sea capaz de resolver problemas de más de dos clases y al menos 10 conjuntos de datos de más de 2 clases (puede reusar los de prácticas anteriores).\n",
    "El algoritmo escogido es el de árboles de decisión.\n",
    "\n",
    "Los conjuntos de datos escogidos son:\n",
    "* BreastTissue.csv\n",
    "* contact-lens\n",
    "* ecoli\n",
    "* glass\n",
    "* statlog\n",
    "* iris\n",
    "* PhishingData\n",
    "* segment challenge\n",
    "* wine\n",
    "* zoo\n",
    "\n",
    "Los cuales pueden obtenerse a través de los siguientes enlaces: \n",
    "\n",
    "https://storm.cis.fordham.edu/~gweiss/data-mining/datasets.html\n",
    "\n",
    "https://archive.ics.uci.edu/ml/index.php"
   ]
  },
  {
   "cell_type": "markdown",
   "metadata": {},
   "source": [
    "### 2. Aplique el clasificador base a cada uno de los conjuntos y anote los resultados obtenidos.\n",
    "Vamos a utilizar el siguiente script para aplicar el clasificador a todos los datasets."
   ]
  },
  {
   "cell_type": "code",
   "execution_count": 15,
   "metadata": {},
   "outputs": [
    {
     "name": "stdout",
     "output_type": "stream",
     "text": [
      "['car' 'car' 'car' 'car' 'car' 'car' 'car' 'car' 'car' 'car' 'car' 'car'\n",
      " 'car' 'car' 'car' 'car' 'car' 'car' 'car' 'car' 'car' 'fad' 'fad' 'fad'\n",
      " 'fad' 'fad' 'fad' 'fad' 'fad' 'fad' 'fad' 'fad' 'fad' 'fad' 'fad' 'fad'\n",
      " 'mas' 'mas' 'mas' 'mas' 'mas' 'mas' 'mas' 'mas' 'mas' 'mas' 'mas' 'mas'\n",
      " 'mas' 'mas' 'mas' 'mas' 'mas' 'mas' 'gla' 'gla' 'gla' 'gla' 'gla' 'gla'\n",
      " 'gla' 'gla' 'gla' 'gla' 'gla' 'gla' 'gla' 'gla' 'gla' 'gla' 'con' 'con'\n",
      " 'con' 'con' 'con' 'con' 'con' 'con' 'con' 'con' 'con' 'con' 'con' 'con'\n",
      " 'adi' 'adi' 'adi' 'adi' 'adi' 'adi' 'adi' 'adi' 'adi' 'adi' 'adi' 'adi'\n",
      " 'adi' 'adi' 'adi' 'adi' 'adi' 'adi' 'adi' 'adi' 'adi' 'adi']\n",
      "[2 0 2 1 2 0 2 1 2 0 2 1 2 0 2 2 2 2 2 1 2 0 2 2]\n",
      "['cp' 'cp' 'cp' 'cp' 'cp' 'cp' 'cp' 'cp' 'cp' 'cp' 'cp' 'cp' 'cp' 'cp'\n",
      " 'cp' 'cp' 'cp' 'cp' 'cp' 'cp' 'cp' 'cp' 'cp' 'cp' 'cp' 'cp' 'cp' 'cp'\n",
      " 'cp' 'cp' 'cp' 'cp' 'cp' 'cp' 'cp' 'cp' 'cp' 'cp' 'cp' 'cp' 'cp' 'cp'\n",
      " 'cp' 'cp' 'cp' 'cp' 'cp' 'cp' 'cp' 'cp' 'cp' 'cp' 'cp' 'cp' 'cp' 'cp'\n",
      " 'cp' 'cp' 'cp' 'cp' 'cp' 'cp' 'cp' 'cp' 'cp' 'cp' 'cp' 'cp' 'cp' 'cp'\n",
      " 'cp' 'cp' 'cp' 'cp' 'cp' 'cp' 'cp' 'cp' 'cp' 'cp' 'cp' 'cp' 'cp' 'cp'\n",
      " 'cp' 'cp' 'cp' 'cp' 'cp' 'cp' 'cp' 'cp' 'cp' 'cp' 'cp' 'cp' 'cp' 'cp'\n",
      " 'cp' 'cp' 'cp' 'cp' 'cp' 'cp' 'cp' 'cp' 'cp' 'cp' 'cp' 'cp' 'cp' 'cp'\n",
      " 'cp' 'cp' 'cp' 'cp' 'cp' 'cp' 'cp' 'cp' 'cp' 'cp' 'cp' 'cp' 'cp' 'cp'\n",
      " 'cp' 'cp' 'cp' 'cp' 'cp' 'cp' 'cp' 'cp' 'cp' 'cp' 'cp' 'cp' 'cp' 'cp'\n",
      " 'cp' 'cp' 'cp' 'im' 'im' 'im' 'im' 'im' 'im' 'im' 'im' 'im' 'im' 'im'\n",
      " 'im' 'im' 'im' 'im' 'im' 'im' 'im' 'im' 'im' 'im' 'im' 'im' 'im' 'im'\n",
      " 'im' 'im' 'im' 'im' 'im' 'im' 'im' 'im' 'im' 'im' 'im' 'im' 'im' 'im'\n",
      " 'im' 'im' 'im' 'im' 'im' 'im' 'im' 'im' 'im' 'im' 'im' 'im' 'im' 'im'\n",
      " 'im' 'im' 'im' 'im' 'im' 'im' 'im' 'im' 'im' 'im' 'im' 'im' 'im' 'im'\n",
      " 'im' 'im' 'im' 'im' 'im' 'im' 'im' 'im' 'im' 'im' 'imS' 'imS' 'imL' 'imL'\n",
      " 'imU' 'imU' 'imU' 'imU' 'imU' 'imU' 'imU' 'imU' 'imU' 'imU' 'imU' 'imU'\n",
      " 'imU' 'imU' 'imU' 'imU' 'imU' 'imU' 'imU' 'imU' 'imU' 'imU' 'imU' 'imU'\n",
      " 'imU' 'imU' 'imU' 'imU' 'imU' 'imU' 'imU' 'imU' 'imU' 'imU' 'imU' 'om'\n",
      " 'om' 'om' 'om' 'om' 'om' 'om' 'om' 'om' 'om' 'om' 'om' 'om' 'om' 'om'\n",
      " 'om' 'om' 'om' 'om' 'om' 'omL' 'omL' 'omL' 'omL' 'omL' 'pp' 'pp' 'pp'\n",
      " 'pp' 'pp' 'pp' 'pp' 'pp' 'pp' 'pp' 'pp' 'pp' 'pp' 'pp' 'pp' 'pp' 'pp'\n",
      " 'pp' 'pp' 'pp' 'pp' 'pp' 'pp' 'pp' 'pp' 'pp' 'pp' 'pp' 'pp' 'pp' 'pp'\n",
      " 'pp' 'pp' 'pp' 'pp' 'pp' 'pp' 'pp' 'pp' 'pp' 'pp' 'pp' 'pp' 'pp' 'pp'\n",
      " 'pp' 'pp' 'pp' 'pp' 'pp' 'pp' 'pp']\n",
      "['build wind float' 'vehic wind float' 'build wind float' 'tableware'\n",
      " 'build wind non-float' 'build wind non-float' 'vehic wind float'\n",
      " 'build wind float' 'headlamps' 'build wind non-float'\n",
      " 'build wind non-float' 'build wind non-float' 'build wind float'\n",
      " 'vehic wind float' 'vehic wind float' 'build wind non-float' 'headlamps'\n",
      " 'build wind non-float' 'containers' 'build wind non-float'\n",
      " 'build wind float' 'build wind non-float' 'build wind non-float'\n",
      " 'build wind float' 'containers' 'build wind non-float'\n",
      " 'build wind non-float' 'headlamps' 'build wind non-float'\n",
      " 'vehic wind float' 'build wind non-float' 'vehic wind float' 'tableware'\n",
      " 'build wind non-float' 'build wind float' 'build wind float'\n",
      " 'build wind float' 'build wind non-float' 'build wind non-float'\n",
      " 'build wind non-float' 'build wind float' 'build wind non-float'\n",
      " 'build wind non-float' 'build wind non-float' 'vehic wind float'\n",
      " 'build wind float' 'containers' 'build wind float' 'build wind float'\n",
      " 'build wind non-float' 'build wind float' 'build wind non-float'\n",
      " 'build wind float' 'build wind non-float' 'headlamps' 'build wind float'\n",
      " 'headlamps' 'build wind float' 'vehic wind float' 'build wind non-float'\n",
      " 'build wind non-float' 'build wind float' 'build wind float'\n",
      " 'build wind float' 'build wind float' 'headlamps' 'build wind float'\n",
      " 'vehic wind float' 'build wind non-float' 'build wind float' 'tableware'\n",
      " 'build wind non-float' 'tableware' 'build wind non-float'\n",
      " 'build wind float' 'build wind non-float' 'build wind float'\n",
      " 'build wind float' 'vehic wind float' 'build wind float'\n",
      " 'build wind float' 'build wind float' 'vehic wind float'\n",
      " 'build wind float' 'containers' 'build wind non-float'\n",
      " 'build wind non-float' 'build wind float' 'build wind float'\n",
      " 'build wind non-float' 'headlamps' 'build wind float' 'build wind float'\n",
      " 'tableware' 'headlamps' 'build wind float' 'headlamps'\n",
      " 'build wind non-float' 'build wind non-float' 'build wind non-float'\n",
      " 'build wind float' 'build wind non-float' 'headlamps' 'headlamps'\n",
      " 'headlamps' 'containers' 'build wind non-float' 'headlamps'\n",
      " 'build wind float' 'containers' 'build wind non-float' 'headlamps'\n",
      " 'build wind float' 'headlamps' 'vehic wind float' 'headlamps'\n",
      " 'build wind non-float' 'headlamps' 'build wind non-float'\n",
      " 'build wind float' 'build wind non-float' 'build wind float'\n",
      " 'build wind non-float' 'build wind non-float' 'containers'\n",
      " 'build wind float' 'headlamps' 'headlamps' 'build wind float'\n",
      " 'build wind float' 'build wind non-float' 'build wind non-float'\n",
      " 'headlamps' 'build wind float' 'containers' 'build wind float'\n",
      " 'build wind float' 'build wind non-float' 'build wind float'\n",
      " 'build wind non-float' 'build wind float' 'build wind float'\n",
      " 'build wind float' 'containers' 'build wind non-float'\n",
      " 'build wind non-float' 'build wind non-float' 'build wind non-float'\n",
      " 'build wind non-float' 'build wind non-float' 'headlamps'\n",
      " 'build wind float' 'build wind non-float' 'build wind non-float'\n",
      " 'vehic wind float' 'build wind float' 'headlamps' 'containers'\n",
      " 'build wind float' 'build wind non-float' 'build wind non-float'\n",
      " 'build wind float' 'headlamps' 'containers' 'build wind non-float'\n",
      " 'build wind float' 'build wind float' 'build wind non-float'\n",
      " 'build wind non-float' 'headlamps' 'build wind non-float'\n",
      " 'build wind non-float' 'build wind float' 'headlamps' 'build wind float'\n",
      " 'headlamps' 'build wind float' 'build wind float' 'containers'\n",
      " 'tableware' 'build wind non-float' 'build wind non-float'\n",
      " 'vehic wind float' 'build wind non-float' 'build wind float' 'headlamps'\n",
      " 'build wind float' 'build wind float' 'vehic wind float' 'containers'\n",
      " 'build wind float' 'build wind float' 'tableware' 'headlamps' 'tableware'\n",
      " 'build wind non-float' 'build wind non-float' 'build wind non-float'\n",
      " 'build wind non-float' 'build wind non-float' 'build wind non-float'\n",
      " 'build wind float' 'vehic wind float' 'build wind float'\n",
      " 'build wind non-float' 'build wind float' 'headlamps' 'build wind float'\n",
      " 'build wind float' 'vehic wind float' 'build wind non-float'\n",
      " 'build wind non-float' 'build wind non-float' 'tableware']\n",
      "[1 1 1 ... 7 7 7]\n"
     ]
    },
    {
     "name": "stderr",
     "output_type": "stream",
     "text": [
      "C:\\ProgramData\\Anaconda3\\lib\\site-packages\\sklearn\\model_selection\\_split.py:670: UserWarning: The least populated class in y has only 4 members, which is less than n_splits=10.\n",
      "  warnings.warn((\"The least populated class in y has only %d\"\n",
      "C:\\ProgramData\\Anaconda3\\lib\\site-packages\\sklearn\\model_selection\\_split.py:670: UserWarning: The least populated class in y has only 2 members, which is less than n_splits=10.\n",
      "  warnings.warn((\"The least populated class in y has only %d\"\n",
      "C:\\ProgramData\\Anaconda3\\lib\\site-packages\\sklearn\\model_selection\\_split.py:670: UserWarning: The least populated class in y has only 9 members, which is less than n_splits=10.\n",
      "  warnings.warn((\"The least populated class in y has only %d\"\n"
     ]
    },
    {
     "name": "stdout",
     "output_type": "stream",
     "text": [
      "['Iris-setosa' 'Iris-setosa' 'Iris-setosa' 'Iris-setosa' 'Iris-setosa'\n",
      " 'Iris-setosa' 'Iris-setosa' 'Iris-setosa' 'Iris-setosa' 'Iris-setosa'\n",
      " 'Iris-setosa' 'Iris-setosa' 'Iris-setosa' 'Iris-setosa' 'Iris-setosa'\n",
      " 'Iris-setosa' 'Iris-setosa' 'Iris-setosa' 'Iris-setosa' 'Iris-setosa'\n",
      " 'Iris-setosa' 'Iris-setosa' 'Iris-setosa' 'Iris-setosa' 'Iris-setosa'\n",
      " 'Iris-setosa' 'Iris-setosa' 'Iris-setosa' 'Iris-setosa' 'Iris-setosa'\n",
      " 'Iris-setosa' 'Iris-setosa' 'Iris-setosa' 'Iris-setosa' 'Iris-setosa'\n",
      " 'Iris-setosa' 'Iris-setosa' 'Iris-setosa' 'Iris-setosa' 'Iris-setosa'\n",
      " 'Iris-setosa' 'Iris-setosa' 'Iris-setosa' 'Iris-setosa' 'Iris-setosa'\n",
      " 'Iris-setosa' 'Iris-setosa' 'Iris-setosa' 'Iris-setosa' 'Iris-setosa'\n",
      " 'Iris-versicolor' 'Iris-versicolor' 'Iris-versicolor' 'Iris-versicolor'\n",
      " 'Iris-versicolor' 'Iris-versicolor' 'Iris-versicolor' 'Iris-versicolor'\n",
      " 'Iris-versicolor' 'Iris-versicolor' 'Iris-versicolor' 'Iris-versicolor'\n",
      " 'Iris-versicolor' 'Iris-versicolor' 'Iris-versicolor' 'Iris-versicolor'\n",
      " 'Iris-versicolor' 'Iris-versicolor' 'Iris-versicolor' 'Iris-versicolor'\n",
      " 'Iris-versicolor' 'Iris-versicolor' 'Iris-versicolor' 'Iris-versicolor'\n",
      " 'Iris-versicolor' 'Iris-versicolor' 'Iris-versicolor' 'Iris-versicolor'\n",
      " 'Iris-versicolor' 'Iris-versicolor' 'Iris-versicolor' 'Iris-versicolor'\n",
      " 'Iris-versicolor' 'Iris-versicolor' 'Iris-versicolor' 'Iris-versicolor'\n",
      " 'Iris-versicolor' 'Iris-versicolor' 'Iris-versicolor' 'Iris-versicolor'\n",
      " 'Iris-versicolor' 'Iris-versicolor' 'Iris-versicolor' 'Iris-versicolor'\n",
      " 'Iris-versicolor' 'Iris-versicolor' 'Iris-versicolor' 'Iris-versicolor'\n",
      " 'Iris-versicolor' 'Iris-versicolor' 'Iris-virginica' 'Iris-virginica'\n",
      " 'Iris-virginica' 'Iris-virginica' 'Iris-virginica' 'Iris-virginica'\n",
      " 'Iris-virginica' 'Iris-virginica' 'Iris-virginica' 'Iris-virginica'\n",
      " 'Iris-virginica' 'Iris-virginica' 'Iris-virginica' 'Iris-virginica'\n",
      " 'Iris-virginica' 'Iris-virginica' 'Iris-virginica' 'Iris-virginica'\n",
      " 'Iris-virginica' 'Iris-virginica' 'Iris-virginica' 'Iris-virginica'\n",
      " 'Iris-virginica' 'Iris-virginica' 'Iris-virginica' 'Iris-virginica'\n",
      " 'Iris-virginica' 'Iris-virginica' 'Iris-virginica' 'Iris-virginica'\n",
      " 'Iris-virginica' 'Iris-virginica' 'Iris-virginica' 'Iris-virginica'\n",
      " 'Iris-virginica' 'Iris-virginica' 'Iris-virginica' 'Iris-virginica'\n",
      " 'Iris-virginica' 'Iris-virginica' 'Iris-virginica' 'Iris-virginica'\n",
      " 'Iris-virginica' 'Iris-virginica' 'Iris-virginica' 'Iris-virginica'\n",
      " 'Iris-virginica' 'Iris-virginica' 'Iris-virginica' 'Iris-virginica']\n",
      "[ 0  1  1 ...  1  1 -1]\n",
      "['path' 'grass' 'foliage' ... 'grass' 'window' 'window']\n",
      "[1 1 4 1 1 1 1 4 4 1 1 2 4 7 7 7 2 1 4 1 2 2 1 2 6 5 5 1 1 1 6 1 1 2 4 1 1\n",
      " 2 4 6 6 2 6 2 1 1 7 1 1 1 1 6 5 7 1 1 2 2 2 2 4 4 3 1 1 1 1 1 1 1 1 2 7 4\n",
      " 1 1 3 7 2 2 3 7 4 2 1 7 4 2 6 5 3 3 4 1 1 2 1 6 1 7 2]\n"
     ]
    },
    {
     "name": "stderr",
     "output_type": "stream",
     "text": [
      "C:\\ProgramData\\Anaconda3\\lib\\site-packages\\sklearn\\model_selection\\_split.py:670: UserWarning: The least populated class in y has only 4 members, which is less than n_splits=10.\n",
      "  warnings.warn((\"The least populated class in y has only %d\"\n"
     ]
    }
   ],
   "source": [
    "from scipy.io import arff\n",
    "import pandas as pd\n",
    "import numpy as np\n",
    "from sklearn.tree import DecisionTreeClassifier\n",
    "from sklearn.model_selection import cross_val_score\n",
    "from sklearn import metrics\n",
    "from sklearn.neighbors import KNeighborsClassifier\n",
    "from sklearn.svm import SVC\n",
    "from sklearn.preprocessing import MultiLabelBinarizer \n",
    "import matplotlib.pyplot as plt\n",
    "\n",
    "datasets = ['BreastTissue.csv', 'contact-lens.csv', 'ecoli.csv', 'glass.csv', 'statlog.csv', \n",
    "            'iris.csv', 'PhishingData.csv', 'segment-challenge.csv', 'wine.csv', 'zoo.csv']\n",
    "\n",
    "sol_arbol = list()\n",
    "\n",
    "for i in datasets:\n",
    "    df = pd.read_csv(i, header=None)\n",
    "                            \n",
    "    if i == 'wine.csv':\n",
    "        X = df.iloc[:,1:].values\n",
    "        Y = df.iloc[:,0].values\n",
    "    else:\n",
    "        X = df.iloc[:,:-1].values\n",
    "        Y = df.iloc[:,-1].values\n",
    "        \n",
    "        print(Y)\n",
    "        \n",
    "    sol = cross_val_score(DecisionTreeClassifier(), X, Y, cv=10)\n",
    "    sol_arbol.append(sol.mean())"
   ]
  },
  {
   "cell_type": "code",
   "execution_count": 16,
   "metadata": {},
   "outputs": [
    {
     "name": "stdout",
     "output_type": "stream",
     "text": [
      "Media arbol: 0.8277051180872519\n"
     ]
    }
   ],
   "source": [
    "print(f\"Media arbol: {sum(sol_arbol) / len(sol_arbol)}\")"
   ]
  },
  {
   "cell_type": "markdown",
   "metadata": {},
   "source": [
    "### 3. Aplique los métodos multiclase one-vs.-one (OVO), one-vs.all (OVA) y error correcting output codes (ECOC) a cada uno de los conjuntos de datos y anote los resultados obtenidos.\n",
    "Vamos a crear un script para aplicar todos los métodos al mismo tiempo."
   ]
  },
  {
   "cell_type": "code",
   "execution_count": 17,
   "metadata": {},
   "outputs": [
    {
     "name": "stdout",
     "output_type": "stream",
     "text": [
      "['car' 'car' 'car' 'car' 'car' 'car' 'car' 'car' 'car' 'car' 'car' 'car'\n",
      " 'car' 'car' 'car' 'car' 'car' 'car' 'car' 'car' 'car' 'fad' 'fad' 'fad'\n",
      " 'fad' 'fad' 'fad' 'fad' 'fad' 'fad' 'fad' 'fad' 'fad' 'fad' 'fad' 'fad'\n",
      " 'mas' 'mas' 'mas' 'mas' 'mas' 'mas' 'mas' 'mas' 'mas' 'mas' 'mas' 'mas'\n",
      " 'mas' 'mas' 'mas' 'mas' 'mas' 'mas' 'gla' 'gla' 'gla' 'gla' 'gla' 'gla'\n",
      " 'gla' 'gla' 'gla' 'gla' 'gla' 'gla' 'gla' 'gla' 'gla' 'gla' 'con' 'con'\n",
      " 'con' 'con' 'con' 'con' 'con' 'con' 'con' 'con' 'con' 'con' 'con' 'con'\n",
      " 'adi' 'adi' 'adi' 'adi' 'adi' 'adi' 'adi' 'adi' 'adi' 'adi' 'adi' 'adi'\n",
      " 'adi' 'adi' 'adi' 'adi' 'adi' 'adi' 'adi' 'adi' 'adi' 'adi']\n",
      "[2 0 2 1 2 0 2 1 2 0 2 1 2 0 2 2 2 2 2 1 2 0 2 2]\n",
      "['cp' 'cp' 'cp' 'cp' 'cp' 'cp' 'cp' 'cp' 'cp' 'cp' 'cp' 'cp' 'cp' 'cp'\n",
      " 'cp' 'cp' 'cp' 'cp' 'cp' 'cp' 'cp' 'cp' 'cp' 'cp' 'cp' 'cp' 'cp' 'cp'\n",
      " 'cp' 'cp' 'cp' 'cp' 'cp' 'cp' 'cp' 'cp' 'cp' 'cp' 'cp' 'cp' 'cp' 'cp'\n",
      " 'cp' 'cp' 'cp' 'cp' 'cp' 'cp' 'cp' 'cp' 'cp' 'cp' 'cp' 'cp' 'cp' 'cp'\n",
      " 'cp' 'cp' 'cp' 'cp' 'cp' 'cp' 'cp' 'cp' 'cp' 'cp' 'cp' 'cp' 'cp' 'cp'\n",
      " 'cp' 'cp' 'cp' 'cp' 'cp' 'cp' 'cp' 'cp' 'cp' 'cp' 'cp' 'cp' 'cp' 'cp'\n",
      " 'cp' 'cp' 'cp' 'cp' 'cp' 'cp' 'cp' 'cp' 'cp' 'cp' 'cp' 'cp' 'cp' 'cp'\n",
      " 'cp' 'cp' 'cp' 'cp' 'cp' 'cp' 'cp' 'cp' 'cp' 'cp' 'cp' 'cp' 'cp' 'cp'\n",
      " 'cp' 'cp' 'cp' 'cp' 'cp' 'cp' 'cp' 'cp' 'cp' 'cp' 'cp' 'cp' 'cp' 'cp'\n",
      " 'cp' 'cp' 'cp' 'cp' 'cp' 'cp' 'cp' 'cp' 'cp' 'cp' 'cp' 'cp' 'cp' 'cp'\n",
      " 'cp' 'cp' 'cp' 'im' 'im' 'im' 'im' 'im' 'im' 'im' 'im' 'im' 'im' 'im'\n",
      " 'im' 'im' 'im' 'im' 'im' 'im' 'im' 'im' 'im' 'im' 'im' 'im' 'im' 'im'\n",
      " 'im' 'im' 'im' 'im' 'im' 'im' 'im' 'im' 'im' 'im' 'im' 'im' 'im' 'im'\n",
      " 'im' 'im' 'im' 'im' 'im' 'im' 'im' 'im' 'im' 'im' 'im' 'im' 'im' 'im'\n",
      " 'im' 'im' 'im' 'im' 'im' 'im' 'im' 'im' 'im' 'im' 'im' 'im' 'im' 'im'\n",
      " 'im' 'im' 'im' 'im' 'im' 'im' 'im' 'im' 'im' 'im' 'imS' 'imS' 'imL' 'imL'\n",
      " 'imU' 'imU' 'imU' 'imU' 'imU' 'imU' 'imU' 'imU' 'imU' 'imU' 'imU' 'imU'\n",
      " 'imU' 'imU' 'imU' 'imU' 'imU' 'imU' 'imU' 'imU' 'imU' 'imU' 'imU' 'imU'\n",
      " 'imU' 'imU' 'imU' 'imU' 'imU' 'imU' 'imU' 'imU' 'imU' 'imU' 'imU' 'om'\n",
      " 'om' 'om' 'om' 'om' 'om' 'om' 'om' 'om' 'om' 'om' 'om' 'om' 'om' 'om'\n",
      " 'om' 'om' 'om' 'om' 'om' 'omL' 'omL' 'omL' 'omL' 'omL' 'pp' 'pp' 'pp'\n",
      " 'pp' 'pp' 'pp' 'pp' 'pp' 'pp' 'pp' 'pp' 'pp' 'pp' 'pp' 'pp' 'pp' 'pp'\n",
      " 'pp' 'pp' 'pp' 'pp' 'pp' 'pp' 'pp' 'pp' 'pp' 'pp' 'pp' 'pp' 'pp' 'pp'\n",
      " 'pp' 'pp' 'pp' 'pp' 'pp' 'pp' 'pp' 'pp' 'pp' 'pp' 'pp' 'pp' 'pp' 'pp'\n",
      " 'pp' 'pp' 'pp' 'pp' 'pp' 'pp' 'pp']\n"
     ]
    },
    {
     "name": "stderr",
     "output_type": "stream",
     "text": [
      "C:\\ProgramData\\Anaconda3\\lib\\site-packages\\sklearn\\model_selection\\_split.py:670: UserWarning: The least populated class in y has only 4 members, which is less than n_splits=10.\n",
      "  warnings.warn((\"The least populated class in y has only %d\"\n",
      "C:\\ProgramData\\Anaconda3\\lib\\site-packages\\sklearn\\model_selection\\_split.py:670: UserWarning: The least populated class in y has only 4 members, which is less than n_splits=10.\n",
      "  warnings.warn((\"The least populated class in y has only %d\"\n",
      "C:\\ProgramData\\Anaconda3\\lib\\site-packages\\sklearn\\model_selection\\_split.py:670: UserWarning: The least populated class in y has only 4 members, which is less than n_splits=10.\n",
      "  warnings.warn((\"The least populated class in y has only %d\"\n",
      "C:\\ProgramData\\Anaconda3\\lib\\site-packages\\sklearn\\model_selection\\_split.py:670: UserWarning: The least populated class in y has only 2 members, which is less than n_splits=10.\n",
      "  warnings.warn((\"The least populated class in y has only %d\"\n",
      "C:\\ProgramData\\Anaconda3\\lib\\site-packages\\sklearn\\model_selection\\_split.py:670: UserWarning: The least populated class in y has only 2 members, which is less than n_splits=10.\n",
      "  warnings.warn((\"The least populated class in y has only %d\"\n",
      "C:\\ProgramData\\Anaconda3\\lib\\site-packages\\sklearn\\model_selection\\_split.py:670: UserWarning: The least populated class in y has only 2 members, which is less than n_splits=10.\n",
      "  warnings.warn((\"The least populated class in y has only %d\"\n"
     ]
    },
    {
     "name": "stdout",
     "output_type": "stream",
     "text": [
      "['build wind float' 'vehic wind float' 'build wind float' 'tableware'\n",
      " 'build wind non-float' 'build wind non-float' 'vehic wind float'\n",
      " 'build wind float' 'headlamps' 'build wind non-float'\n",
      " 'build wind non-float' 'build wind non-float' 'build wind float'\n",
      " 'vehic wind float' 'vehic wind float' 'build wind non-float' 'headlamps'\n",
      " 'build wind non-float' 'containers' 'build wind non-float'\n",
      " 'build wind float' 'build wind non-float' 'build wind non-float'\n",
      " 'build wind float' 'containers' 'build wind non-float'\n",
      " 'build wind non-float' 'headlamps' 'build wind non-float'\n",
      " 'vehic wind float' 'build wind non-float' 'vehic wind float' 'tableware'\n",
      " 'build wind non-float' 'build wind float' 'build wind float'\n",
      " 'build wind float' 'build wind non-float' 'build wind non-float'\n",
      " 'build wind non-float' 'build wind float' 'build wind non-float'\n",
      " 'build wind non-float' 'build wind non-float' 'vehic wind float'\n",
      " 'build wind float' 'containers' 'build wind float' 'build wind float'\n",
      " 'build wind non-float' 'build wind float' 'build wind non-float'\n",
      " 'build wind float' 'build wind non-float' 'headlamps' 'build wind float'\n",
      " 'headlamps' 'build wind float' 'vehic wind float' 'build wind non-float'\n",
      " 'build wind non-float' 'build wind float' 'build wind float'\n",
      " 'build wind float' 'build wind float' 'headlamps' 'build wind float'\n",
      " 'vehic wind float' 'build wind non-float' 'build wind float' 'tableware'\n",
      " 'build wind non-float' 'tableware' 'build wind non-float'\n",
      " 'build wind float' 'build wind non-float' 'build wind float'\n",
      " 'build wind float' 'vehic wind float' 'build wind float'\n",
      " 'build wind float' 'build wind float' 'vehic wind float'\n",
      " 'build wind float' 'containers' 'build wind non-float'\n",
      " 'build wind non-float' 'build wind float' 'build wind float'\n",
      " 'build wind non-float' 'headlamps' 'build wind float' 'build wind float'\n",
      " 'tableware' 'headlamps' 'build wind float' 'headlamps'\n",
      " 'build wind non-float' 'build wind non-float' 'build wind non-float'\n",
      " 'build wind float' 'build wind non-float' 'headlamps' 'headlamps'\n",
      " 'headlamps' 'containers' 'build wind non-float' 'headlamps'\n",
      " 'build wind float' 'containers' 'build wind non-float' 'headlamps'\n",
      " 'build wind float' 'headlamps' 'vehic wind float' 'headlamps'\n",
      " 'build wind non-float' 'headlamps' 'build wind non-float'\n",
      " 'build wind float' 'build wind non-float' 'build wind float'\n",
      " 'build wind non-float' 'build wind non-float' 'containers'\n",
      " 'build wind float' 'headlamps' 'headlamps' 'build wind float'\n",
      " 'build wind float' 'build wind non-float' 'build wind non-float'\n",
      " 'headlamps' 'build wind float' 'containers' 'build wind float'\n",
      " 'build wind float' 'build wind non-float' 'build wind float'\n",
      " 'build wind non-float' 'build wind float' 'build wind float'\n",
      " 'build wind float' 'containers' 'build wind non-float'\n",
      " 'build wind non-float' 'build wind non-float' 'build wind non-float'\n",
      " 'build wind non-float' 'build wind non-float' 'headlamps'\n",
      " 'build wind float' 'build wind non-float' 'build wind non-float'\n",
      " 'vehic wind float' 'build wind float' 'headlamps' 'containers'\n",
      " 'build wind float' 'build wind non-float' 'build wind non-float'\n",
      " 'build wind float' 'headlamps' 'containers' 'build wind non-float'\n",
      " 'build wind float' 'build wind float' 'build wind non-float'\n",
      " 'build wind non-float' 'headlamps' 'build wind non-float'\n",
      " 'build wind non-float' 'build wind float' 'headlamps' 'build wind float'\n",
      " 'headlamps' 'build wind float' 'build wind float' 'containers'\n",
      " 'tableware' 'build wind non-float' 'build wind non-float'\n",
      " 'vehic wind float' 'build wind non-float' 'build wind float' 'headlamps'\n",
      " 'build wind float' 'build wind float' 'vehic wind float' 'containers'\n",
      " 'build wind float' 'build wind float' 'tableware' 'headlamps' 'tableware'\n",
      " 'build wind non-float' 'build wind non-float' 'build wind non-float'\n",
      " 'build wind non-float' 'build wind non-float' 'build wind non-float'\n",
      " 'build wind float' 'vehic wind float' 'build wind float'\n",
      " 'build wind non-float' 'build wind float' 'headlamps' 'build wind float'\n",
      " 'build wind float' 'vehic wind float' 'build wind non-float'\n",
      " 'build wind non-float' 'build wind non-float' 'tableware']\n"
     ]
    },
    {
     "name": "stderr",
     "output_type": "stream",
     "text": [
      "C:\\ProgramData\\Anaconda3\\lib\\site-packages\\sklearn\\model_selection\\_split.py:670: UserWarning: The least populated class in y has only 9 members, which is less than n_splits=10.\n",
      "  warnings.warn((\"The least populated class in y has only %d\"\n",
      "C:\\ProgramData\\Anaconda3\\lib\\site-packages\\sklearn\\model_selection\\_split.py:670: UserWarning: The least populated class in y has only 9 members, which is less than n_splits=10.\n",
      "  warnings.warn((\"The least populated class in y has only %d\"\n",
      "C:\\ProgramData\\Anaconda3\\lib\\site-packages\\sklearn\\model_selection\\_split.py:670: UserWarning: The least populated class in y has only 9 members, which is less than n_splits=10.\n",
      "  warnings.warn((\"The least populated class in y has only %d\"\n"
     ]
    },
    {
     "name": "stdout",
     "output_type": "stream",
     "text": [
      "[1 1 1 ... 7 7 7]\n",
      "['Iris-setosa' 'Iris-setosa' 'Iris-setosa' 'Iris-setosa' 'Iris-setosa'\n",
      " 'Iris-setosa' 'Iris-setosa' 'Iris-setosa' 'Iris-setosa' 'Iris-setosa'\n",
      " 'Iris-setosa' 'Iris-setosa' 'Iris-setosa' 'Iris-setosa' 'Iris-setosa'\n",
      " 'Iris-setosa' 'Iris-setosa' 'Iris-setosa' 'Iris-setosa' 'Iris-setosa'\n",
      " 'Iris-setosa' 'Iris-setosa' 'Iris-setosa' 'Iris-setosa' 'Iris-setosa'\n",
      " 'Iris-setosa' 'Iris-setosa' 'Iris-setosa' 'Iris-setosa' 'Iris-setosa'\n",
      " 'Iris-setosa' 'Iris-setosa' 'Iris-setosa' 'Iris-setosa' 'Iris-setosa'\n",
      " 'Iris-setosa' 'Iris-setosa' 'Iris-setosa' 'Iris-setosa' 'Iris-setosa'\n",
      " 'Iris-setosa' 'Iris-setosa' 'Iris-setosa' 'Iris-setosa' 'Iris-setosa'\n",
      " 'Iris-setosa' 'Iris-setosa' 'Iris-setosa' 'Iris-setosa' 'Iris-setosa'\n",
      " 'Iris-versicolor' 'Iris-versicolor' 'Iris-versicolor' 'Iris-versicolor'\n",
      " 'Iris-versicolor' 'Iris-versicolor' 'Iris-versicolor' 'Iris-versicolor'\n",
      " 'Iris-versicolor' 'Iris-versicolor' 'Iris-versicolor' 'Iris-versicolor'\n",
      " 'Iris-versicolor' 'Iris-versicolor' 'Iris-versicolor' 'Iris-versicolor'\n",
      " 'Iris-versicolor' 'Iris-versicolor' 'Iris-versicolor' 'Iris-versicolor'\n",
      " 'Iris-versicolor' 'Iris-versicolor' 'Iris-versicolor' 'Iris-versicolor'\n",
      " 'Iris-versicolor' 'Iris-versicolor' 'Iris-versicolor' 'Iris-versicolor'\n",
      " 'Iris-versicolor' 'Iris-versicolor' 'Iris-versicolor' 'Iris-versicolor'\n",
      " 'Iris-versicolor' 'Iris-versicolor' 'Iris-versicolor' 'Iris-versicolor'\n",
      " 'Iris-versicolor' 'Iris-versicolor' 'Iris-versicolor' 'Iris-versicolor'\n",
      " 'Iris-versicolor' 'Iris-versicolor' 'Iris-versicolor' 'Iris-versicolor'\n",
      " 'Iris-versicolor' 'Iris-versicolor' 'Iris-versicolor' 'Iris-versicolor'\n",
      " 'Iris-versicolor' 'Iris-versicolor' 'Iris-virginica' 'Iris-virginica'\n",
      " 'Iris-virginica' 'Iris-virginica' 'Iris-virginica' 'Iris-virginica'\n",
      " 'Iris-virginica' 'Iris-virginica' 'Iris-virginica' 'Iris-virginica'\n",
      " 'Iris-virginica' 'Iris-virginica' 'Iris-virginica' 'Iris-virginica'\n",
      " 'Iris-virginica' 'Iris-virginica' 'Iris-virginica' 'Iris-virginica'\n",
      " 'Iris-virginica' 'Iris-virginica' 'Iris-virginica' 'Iris-virginica'\n",
      " 'Iris-virginica' 'Iris-virginica' 'Iris-virginica' 'Iris-virginica'\n",
      " 'Iris-virginica' 'Iris-virginica' 'Iris-virginica' 'Iris-virginica'\n",
      " 'Iris-virginica' 'Iris-virginica' 'Iris-virginica' 'Iris-virginica'\n",
      " 'Iris-virginica' 'Iris-virginica' 'Iris-virginica' 'Iris-virginica'\n",
      " 'Iris-virginica' 'Iris-virginica' 'Iris-virginica' 'Iris-virginica'\n",
      " 'Iris-virginica' 'Iris-virginica' 'Iris-virginica' 'Iris-virginica'\n",
      " 'Iris-virginica' 'Iris-virginica' 'Iris-virginica' 'Iris-virginica']\n",
      "[ 0  1  1 ...  1  1 -1]\n",
      "['path' 'grass' 'foliage' ... 'grass' 'window' 'window']\n",
      "[1 1 4 1 1 1 1 4 4 1 1 2 4 7 7 7 2 1 4 1 2 2 1 2 6 5 5 1 1 1 6 1 1 2 4 1 1\n",
      " 2 4 6 6 2 6 2 1 1 7 1 1 1 1 6 5 7 1 1 2 2 2 2 4 4 3 1 1 1 1 1 1 1 1 2 7 4\n",
      " 1 1 3 7 2 2 3 7 4 2 1 7 4 2 6 5 3 3 4 1 1 2 1 6 1 7 2]\n"
     ]
    },
    {
     "name": "stderr",
     "output_type": "stream",
     "text": [
      "C:\\ProgramData\\Anaconda3\\lib\\site-packages\\sklearn\\model_selection\\_split.py:670: UserWarning: The least populated class in y has only 4 members, which is less than n_splits=10.\n",
      "  warnings.warn((\"The least populated class in y has only %d\"\n",
      "C:\\ProgramData\\Anaconda3\\lib\\site-packages\\sklearn\\model_selection\\_split.py:670: UserWarning: The least populated class in y has only 4 members, which is less than n_splits=10.\n",
      "  warnings.warn((\"The least populated class in y has only %d\"\n",
      "C:\\ProgramData\\Anaconda3\\lib\\site-packages\\sklearn\\model_selection\\_split.py:670: UserWarning: The least populated class in y has only 4 members, which is less than n_splits=10.\n",
      "  warnings.warn((\"The least populated class in y has only %d\"\n"
     ]
    }
   ],
   "source": [
    "from sklearn.multiclass import OneVsOneClassifier, OneVsRestClassifier, OutputCodeClassifier\n",
    "\n",
    "sol_ovo = list()\n",
    "sol_ova = list()\n",
    "sol_ecoc = list()\n",
    "\n",
    "for i in datasets:\n",
    "    df = pd.read_csv(i, header=None)\n",
    "                            \n",
    "    if i == 'wine.csv':\n",
    "        X = df.iloc[:,1:].values\n",
    "        Y = df.iloc[:,0].values\n",
    "    else:\n",
    "        X = df.iloc[:,:-1].values\n",
    "        Y = df.iloc[:,-1].values\n",
    "        \n",
    "        print(Y)\n",
    "        \n",
    "    ovo = OneVsOneClassifier(DecisionTreeClassifier())\n",
    "    sol = cross_val_score(ovo, X, Y, cv=10)\n",
    "    sol_ovo.append(sol.mean())\n",
    "    \n",
    "    ova = OneVsRestClassifier(DecisionTreeClassifier())\n",
    "    sol = cross_val_score(ova, X, Y, cv=10)\n",
    "    sol_ova.append(sol.mean())\n",
    "    \n",
    "    ecoc = OutputCodeClassifier(DecisionTreeClassifier(), code_size=3)\n",
    "    sol = cross_val_score(ecoc, X, Y, cv=10)\n",
    "    sol_ecoc.append(sol.mean())"
   ]
  },
  {
   "cell_type": "code",
   "execution_count": 18,
   "metadata": {},
   "outputs": [
    {
     "name": "stdout",
     "output_type": "stream",
     "text": [
      "Media ovo: 0.8290735830415222\n",
      "Media ova: 0.7990144004350419\n",
      "Media ecoc: 0.8300782257362858\n"
     ]
    }
   ],
   "source": [
    "print(f\"Media ovo: {sum(sol_ovo) / len(sol_ovo)}\")\n",
    "print(f\"Media ova: {sum(sol_ova) / len(sol_ova)}\")\n",
    "print(f\"Media ecoc: {sum(sol_ecoc) / len(sol_ecoc)}\")"
   ]
  },
  {
   "cell_type": "markdown",
   "metadata": {},
   "source": [
    "### 5. Compare si hay diferencias significativas entre ellos usando el test de Iman-Davenport. Si es así, aplique el procedimiento de Wilcoxon para comparar cada método multiclase con el clasificador base y los diferentes métodos entre ellos.\n",
    "Primero realizamos el test de Iman-Davenport."
   ]
  },
  {
   "cell_type": "code",
   "execution_count": 19,
   "metadata": {},
   "outputs": [
    {
     "name": "stdout",
     "output_type": "stream",
     "text": [
      "Valor de T: 3.7435897435897494\n",
      "Valor de p: 0.15384727771283066\n",
      "2.072555205047322\n",
      "No existen diferencias significativas.\n"
     ]
    }
   ],
   "source": [
    "from scipy.stats import friedmanchisquare\n",
    "from scipy.stats import f\n",
    "\n",
    "T, p = friedmanchisquare(sol_ovo, sol_ova, sol_ecoc)\n",
    "\n",
    "print(f\"Valor de T: {T}\")\n",
    "print(f\"Valor de p: {p}\")\n",
    "\n",
    "davenport = ((10-1) * T) / (10 * (3-1) - T)\n",
    "\n",
    "print(davenport)\n",
    "\n",
    "if davenport > f.ppf(q=1-0.05, dfn=3-1, dfd=(3-1)*(10-1)):\n",
    "    print(\"Existen diferencias.\")\n",
    "else:\n",
    "    print(\"No existen diferencias significativas.\")"
   ]
  },
  {
   "cell_type": "markdown",
   "metadata": {},
   "source": [
    "### 7. Enuncie las conclusiones del estudio\n",
    "\n",
    "El test concluye que no existen diferencias significativas, por lo que no es necesario comparar cada método multiclase con el clasificador base.\n",
    "\n",
    "Podemos ver que el método multiclase ECOC es el que ofrece los mejores resultados de todos los métodos multiclase. No solo eso, sino que además mejoras los resultados del método base original. Esto también ocurre ligeramente con el método OVA. Sin embargo, el método OVO empeora los resultados del método base.\n",
    "\n",
    "Vamos a representar los resultados en gráficos de barras para analizar cada uno de los datasets."
   ]
  },
  {
   "cell_type": "code",
   "execution_count": 20,
   "metadata": {},
   "outputs": [
    {
     "name": "stdout",
     "output_type": "stream",
     "text": [
      "[0.6481818181818181, 0.7333333333333333, 0.9163992869875223, 0.6597402597402597, 0.8092205071889044, 0.9533333333333334, 0.8302342047930283, 0.9606666666666668, 0.865032679738562, 0.900909090909091]\n"
     ]
    },
    {
     "data": {
      "image/png": "[encoded data removed]",
      "text/plain": [
       "<Figure size 432x288 with 1 Axes>"
      ]
     },
     "metadata": {
      "needs_background": "light"
     },
     "output_type": "display_data"
    }
   ],
   "source": [
    "print(sol_arbol)\n",
    "ax = plt.figure().add_axes([0,0,3,3])\n",
    "ax.bar(datasets, sol_arbol)\n",
    "plt.show()"
   ]
  },
  {
   "cell_type": "markdown",
   "metadata": {},
   "source": [
    "Estos son los resultados del método base. Como vemos, los datasets que peores resultados obtienen son BreastTissue y glass, además de contact-lens. Por lo demás, se podría decir que los resultados son bastante aceptables."
   ]
  },
  {
   "cell_type": "code",
   "execution_count": 22,
   "metadata": {},
   "outputs": [
    {
     "name": "stdout",
     "output_type": "stream",
     "text": [
      "[0.63, 0.7333333333333333, 0.9280748663101605, 0.6696969696969697, 0.8268201045289082, 0.9533333333333334, 0.8295152505446624, 0.9586666666666668, 0.8594771241830067, 0.901818181818182]\n"
     ]
    },
    {
     "data": {
      "image/png": "[encoded data removed]",
      "text/plain": [
       "<Figure size 432x288 with 1 Axes>"
      ]
     },
     "metadata": {
      "needs_background": "light"
     },
     "output_type": "display_data"
    }
   ],
   "source": [
    "print(sol_ovo)\n",
    "ax = plt.figure().add_axes([0,0,3,3])\n",
    "ax.bar(datasets, sol_ovo)\n",
    "plt.show()"
   ]
  },
  {
   "cell_type": "markdown",
   "metadata": {},
   "source": [
    "Los resultados de OVO aparentemente son muy parecidos. Si atendemos a los datos exactos, sin embargo, podemos ver que los datasets con resultados más bajos en el método base empeoran ligeramente en este caso, mientras que los mejores datasets consiguen resultados ligeramente superiores. Parece, por tanto, que este método castiga a los datasets con bajos resultados, y mejora los datasets que ya consiguen unos resultados buenos."
   ]
  },
  {
   "cell_type": "code",
   "execution_count": 24,
   "metadata": {},
   "outputs": [
    {
     "name": "stdout",
     "output_type": "stream",
     "text": [
      "[0.5718181818181818, 0.7833333333333333, 0.9043672014260249, 0.5290043290043289, 0.7828452606104976, 0.9533333333333334, 0.8094934640522876, 0.9473333333333335, 0.8767973856209151, 0.831818181818182]\n"
     ]
    },
    {
     "data": {
      "image/png": "[encoded data removed]",
      "text/plain": [
       "<Figure size 432x288 with 1 Axes>"
      ]
     },
     "metadata": {
      "needs_background": "light"
     },
     "output_type": "display_data"
    }
   ],
   "source": [
    "print(sol_ova)\n",
    "ax = plt.figure().add_axes([0,0,3,3])\n",
    "ax.bar(datasets, sol_ova)\n",
    "plt.show()"
   ]
  },
  {
   "cell_type": "markdown",
   "metadata": {},
   "source": [
    "En el caso de OVA encontramos resultados dispares. Por un lado, los datasets BreastTissue y glass han empeorado aún más sus resultados, y de forma significativa. Por otro lado, la base de datos contact-lens ha visto sus resultados subir ligeramente. El resto de datasets contienen resultados similares, con la excepción de zoo, el cual tiene unos resultados significativamente peores que antes."
   ]
  },
  {
   "cell_type": "code",
   "execution_count": 25,
   "metadata": {},
   "outputs": [
    {
     "name": "stdout",
     "output_type": "stream",
     "text": [
      "[0.6381818181818182, 0.6833333333333333, 0.9644385026737968, 0.6917748917748917, 0.8398989282736462, 0.96, 0.8079901960784314, 0.9673333333333332, 0.8660130718954248, 0.8818181818181821]\n"
     ]
    },
    {
     "data": {
      "image/png": "[encoded data removed]",
      "text/plain": [
       "<Figure size 432x288 with 1 Axes>"
      ]
     },
     "metadata": {
      "needs_background": "light"
     },
     "output_type": "display_data"
    }
   ],
   "source": [
    "print(sol_ecoc)\n",
    "ax = plt.figure().add_axes([0,0,3,3])\n",
    "ax.bar(datasets, sol_ecoc)\n",
    "plt.show()"
   ]
  },
  {
   "cell_type": "markdown",
   "metadata": {},
   "source": [
    "Por último, el método ECOC ofrece unos resultados casi idénticos al método base. Sin embargo, también sucede algo parecido al método OVO, donde los resultados de los peores datasets empeoran ligeramente, mientra que los resultados de los mejores datasets mejoran."
   ]
  }
 ],
 "metadata": {
  "kernelspec": {
   "display_name": "Python 3",
   "language": "python",
   "name": "python3"
  },
  "language_info": {
   "codemirror_mode": {
    "name": "ipython",
    "version": 3
   },
   "file_extension": ".py",
   "mimetype": "text/x-python",
   "name": "python",
   "nbconvert_exporter": "python",
   "pygments_lexer": "ipython3",
   "version": "3.8.5"
  }
 },
 "nbformat": 4,
 "nbformat_minor": 4
}
